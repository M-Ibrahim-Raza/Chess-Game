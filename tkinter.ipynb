{
 "cells": [
  {
   "cell_type": "code",
   "execution_count": null,
   "id": "b922faf4",
   "metadata": {},
   "outputs": [],
   "source": [
    "import tkinter as tk\n",
    "\n",
    "root = tk.Tk()\n",
    "root.title(\"Entry Example\")\n",
    "\n",
    "tk.Label(root, text=\"Enter your name:\").pack(pady=5)\n",
    "\n",
    "entry = tk.Entry(root, width=30)\n",
    "entry.pack(pady=5)\n",
    "entry.insert(0, \"Type here...\")\n",
    "\n",
    "def show_name():\n",
    "    name = entry.get()\n",
    "    print(\"Hello,\", name)\n",
    "\n",
    "tk.Button(root, text=\"Submit\", command=show_name).pack(pady=5)\n",
    "\n",
    "root.mainloop()\n"
   ]
  }
 ],
 "metadata": {
  "kernelspec": {
   "display_name": "Python 3",
   "language": "python",
   "name": "python3"
  },
  "language_info": {
   "codemirror_mode": {
    "name": "ipython",
    "version": 3
   },
   "file_extension": ".py",
   "mimetype": "text/x-python",
   "name": "python",
   "nbconvert_exporter": "python",
   "pygments_lexer": "ipython3",
   "version": "3.13.5"
  }
 },
 "nbformat": 4,
 "nbformat_minor": 5
}
