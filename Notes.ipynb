{
 "cells": [
  {
   "cell_type": "markdown",
   "id": "66ce0f8a",
   "metadata": {},
   "source": [
    "##### **Custom Exception Syntax**\n"
   ]
  },
  {
   "cell_type": "code",
   "execution_count": null,
   "id": "a453bff6",
   "metadata": {},
   "outputs": [],
   "source": [
    "class ___CustomExceptionName___(Exception):\n",
    "    def __init__(self, message=\"___Default_Message___\"):\n",
    "        self.message = message\n",
    "        super().__init__(self.message)"
   ]
  },
  {
   "cell_type": "markdown",
   "id": "c1de7d57",
   "metadata": {},
   "source": [
    "##### **Import Module from Folder in Same Directory**\n"
   ]
  },
  {
   "cell_type": "markdown",
   "id": "ef2daeab",
   "metadata": {},
   "source": [
    "```python\n",
    "from <Folder_Name>.<ModuleName> import <Item>"
   ]
  },
  {
   "cell_type": "markdown",
   "id": "63f2ceca",
   "metadata": {},
   "source": [
    "##### **Custom Type Hinting Syntax**\n"
   ]
  },
  {
   "cell_type": "markdown",
   "id": "39a867c8",
   "metadata": {},
   "source": [
    "```python\n",
    "from typing import Literal, Tuple, List, Optional, TypeVar,Callable\n",
    "\n",
    "# Normal type hints\n",
    "<Var> : <Type_Hint> = <Val> \n",
    "\n",
    "\n",
    "# Literal types restrict values to a fixed set (like an enum)\n",
    "# Variable will expect a value from a set of literals\n",
    "<Literal_Type_Name> = Literal[ <Val_1> , <Val_2> , <Val_3>, ...]\n",
    "\n",
    "\n",
    "# Tuple with 2 Values\n",
    "<Tuple_Type_Name> = Tuple[ <Type_Hint> , <Type_Hint> ]\n",
    "# Type of values can be according to your choice\n",
    "\n",
    "\n",
    "# Tuple with multiple values\n",
    "<Tuple_Type_Name> = Tuple[ <Type_Hint> , ...]\n",
    "# Type of values can be according to your choice\n",
    "\n",
    "\n",
    "# List of tuples\n",
    "<List_Tuple_Type_Name> = List[<Tuple_Type_Name>]\n",
    "\n",
    "\n",
    "# Can be None or of certain type\n",
    "Optional(<Type_Hint>)\n",
    "# Type of values can be according to your choice\n",
    "\n",
    "\n",
    "# Type hint of returning value of function\n",
    "def <Function_Name>(<Arg> : <Type_Hint> , ... ) -> <Return_Type_Hint> :\n",
    "    pass\n",
    "\n",
    "\n",
    "# Type hint of function object\n",
    "<Function_Type_Name> = Callable[[<Arg_Type_Hint>,...], <Return_Type_Hint> ]\n",
    "\n",
    "\n",
    "# Type hint of object of certain class\n",
    "<Class_Type_Name> = TypeVar(\"<Class_Name>\", bound=<Class>)"
   ]
  },
  {
   "cell_type": "code",
   "execution_count": 2,
   "id": "540005e5",
   "metadata": {},
   "outputs": [
    {
     "name": "stdout",
     "output_type": "stream",
     "text": [
      "True\n"
     ]
    }
   ],
   "source": [
    "print(not 0)"
   ]
  },
  {
   "cell_type": "code",
   "execution_count": 4,
   "id": "b1636b0e",
   "metadata": {},
   "outputs": [],
   "source": [
    "al=[12,2]"
   ]
  },
  {
   "cell_type": "code",
   "execution_count": 6,
   "id": "14580444",
   "metadata": {},
   "outputs": [
    {
     "data": {
      "text/plain": [
       "12"
      ]
     },
     "execution_count": 6,
     "metadata": {},
     "output_type": "execute_result"
    }
   ],
   "source": [
    "al[not 1]"
   ]
  },
  {
   "cell_type": "code",
   "execution_count": null,
   "id": "7741ed27",
   "metadata": {},
   "outputs": [],
   "source": []
  }
 ],
 "metadata": {
  "kernelspec": {
   "display_name": ".venv",
   "language": "python",
   "name": "python3"
  },
  "language_info": {
   "codemirror_mode": {
    "name": "ipython",
    "version": 3
   },
   "file_extension": ".py",
   "mimetype": "text/x-python",
   "name": "python",
   "nbconvert_exporter": "python",
   "pygments_lexer": "ipython3",
   "version": "3.13.5"
  }
 },
 "nbformat": 4,
 "nbformat_minor": 5
}
