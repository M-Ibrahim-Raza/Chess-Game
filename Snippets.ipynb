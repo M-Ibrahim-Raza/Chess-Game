{
 "cells": [
  {
   "cell_type": "code",
   "execution_count": null,
   "id": "9b9e346d",
   "metadata": {},
   "outputs": [],
   "source": [
    "# Sometimes, taking input from input() function can cause previous print function to not print their content\n",
    "# Use time.sleep( ) to ensure printing of print function\n",
    "# () without comma dont create any tuple"
   ]
  },
  {
   "cell_type": "markdown",
   "id": "66ce0f8a",
   "metadata": {},
   "source": [
    "##### Invalid Input Custom Exception\n"
   ]
  }
 ],
 "metadata": {
  "language_info": {
   "name": "python"
  }
 },
 "nbformat": 4,
 "nbformat_minor": 5
}
