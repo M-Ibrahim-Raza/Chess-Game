{
 "cells": [
  {
   "cell_type": "code",
   "execution_count": 6,
   "id": "7f5ab23e",
   "metadata": {},
   "outputs": [],
   "source": [
    "import customtkinter\n",
    "\n",
    "\n",
    "class MyCheckboxFrame(customtkinter.CTkFrame):\n",
    "    def __init__(self, master, title, values):\n",
    "        super().__init__(master)\n",
    "        self.grid_columnconfigure(0, weight=1)\n",
    "        self.values = values\n",
    "        self.title = title\n",
    "        self.checkboxes = []\n",
    "\n",
    "        self.title = customtkinter.CTkLabel(self, text=self.title, fg_color=\"gray30\", corner_radius=6)\n",
    "        self.title.grid(row=0, column=0, padx=10, pady=(10, 0), sticky=\"ew\")\n",
    "\n",
    "        for i, value in enumerate(self.values):\n",
    "            checkbox = customtkinter.CTkCheckBox(self, text=value)\n",
    "            checkbox.grid(row=i+1, column=0, padx=10, pady=(10, 0), sticky=\"w\")\n",
    "            self.checkboxes.append(checkbox)\n",
    "\n",
    "    def get(self):\n",
    "        checked_checkboxes = []\n",
    "        for checkbox in self.checkboxes:\n",
    "            if checkbox.get() == 1:\n",
    "                checked_checkboxes.append(checkbox.cget(\"text\"))\n",
    "        return checked_checkboxes\n",
    "\n",
    "class MyRadiobuttonFrame(customtkinter.CTkFrame):\n",
    "    def __init__(self, master, title, values):\n",
    "        super().__init__(master)\n",
    "        self.grid_columnconfigure(0, weight=1)\n",
    "        self.values = values\n",
    "        self.title = title\n",
    "        self.radiobuttons = []\n",
    "        self.variable = customtkinter.StringVar(value=\"\")\n",
    "\n",
    "        self.title = customtkinter.CTkLabel(self, text=self.title, fg_color=\"gray30\", corner_radius=6)\n",
    "        self.title.grid(row=0, column=0, padx=10, pady=(10, 0), sticky=\"ew\")\n",
    "\n",
    "        for i, value in enumerate(self.values):\n",
    "            radiobutton = customtkinter.CTkRadioButton(self, text=value, value=value, variable=self.variable)\n",
    "            radiobutton.grid(row=i + 1, column=0, padx=10, pady=(10, 0), sticky=\"w\")\n",
    "            self.radiobuttons.append(radiobutton)\n",
    "\n",
    "    def get(self):\n",
    "        return self.variable.get()\n",
    "\n",
    "    def set(self, value):\n",
    "        self.variable.set(value)\n",
    "\n",
    "class App(customtkinter.CTk):\n",
    "    def __init__(self):\n",
    "        super().__init__()\n",
    "\n",
    "        self.title(\"my app\")\n",
    "        self.geometry(\"400x220\")\n",
    "        self.grid_columnconfigure((0, 1), weight=1)\n",
    "        self.grid_rowconfigure(0, weight=1)\n",
    "\n",
    "        self.checkbox_frame = MyCheckboxFrame(self, \"Values\", values=[\"value 1\", \"value 2\", \"value 3\"])\n",
    "        self.checkbox_frame.grid(row=0, column=0, padx=10, pady=(10, 0), sticky=\"nsew\")\n",
    "        self.radiobutton_frame = MyRadiobuttonFrame(self, \"Options\", values=[\"option 1\", \"option 2\"])\n",
    "        self.radiobutton_frame.grid(row=0, column=1, padx=(0, 10), pady=(10, 0), sticky=\"nsew\")\n",
    "\n",
    "        self.button = customtkinter.CTkButton(self, text=\"my button\", command=self.button_callback)\n",
    "        self.button.grid(row=3, column=0, padx=10, pady=10, sticky=\"ew\", columnspan=2)\n",
    "\n",
    "    def button_callback(self):\n",
    "        print(\"checkbox_frame:\", self.checkbox_frame.get())\n",
    "        print(\"radiobutton_frame:\", self.radiobutton_frame.get())\n",
    "\n",
    "app = App()\n",
    "app.mainloop()"
   ]
  },
  {
   "cell_type": "code",
   "execution_count": 7,
   "id": "b43c959c",
   "metadata": {},
   "outputs": [
    {
     "name": "stderr",
     "output_type": "stream",
     "text": [
      "invalid command name \"124452152971072update\"\n",
      "    while executing\n",
      "\"124452152971072update\"\n",
      "    (\"after\" script)\n",
      "invalid command name \"124451857579968check_dpi_scaling\"\n",
      "    while executing\n",
      "\"124451857579968check_dpi_scaling\"\n",
      "    (\"after\" script)\n"
     ]
    },
    {
     "name": "stdout",
     "output_type": "stream",
     "text": [
      "Current selection: Option 3\n",
      "Current selection: Option 3\n",
      "Current selection: Option 2\n"
     ]
    }
   ],
   "source": [
    "import customtkinter as ctk\n",
    "\n",
    "app = ctk.CTk()\n",
    "app.geometry(\"300x200\")\n",
    "\n",
    "selected_option = ctk.StringVar(value=\"Option 1\")  # This is the 'variable'\n",
    "\n",
    "def show_selection():\n",
    "    print(\"Current selection:\", selected_option.get())\n",
    "\n",
    "rb1 = ctk.CTkRadioButton(app, text=\"Option 1\", value=\"Option 1\", variable=selected_option)\n",
    "rb2 = ctk.CTkRadioButton(app, text=\"Option 2\", value=\"Option 2\", variable=selected_option)\n",
    "rb3 = ctk.CTkRadioButton(app, text=\"Option 3\", value=\"Option 3\", variable=selected_option)\n",
    "\n",
    "button = ctk.CTkButton(app, text=\"Check Selection\", command=show_selection)\n",
    "\n",
    "rb1.pack()\n",
    "rb2.pack()\n",
    "rb3.pack()\n",
    "button.pack()\n",
    "\n",
    "app.mainloop()\n"
   ]
  },
  {
   "cell_type": "code",
   "execution_count": 6,
   "id": "26a2717a",
   "metadata": {},
   "outputs": [
    {
     "name": "stdout",
     "output_type": "stream",
     "text": [
      "Defaulting to user installation because normal site-packages is not writeable\n",
      "Requirement already satisfied: customtkinter in /home/dev/.local/lib/python3.10/site-packages (5.2.2)\n",
      "Requirement already satisfied: darkdetect in /home/dev/.local/lib/python3.10/site-packages (from customtkinter) (0.8.0)\n",
      "Requirement already satisfied: packaging in /home/dev/.local/lib/python3.10/site-packages (from customtkinter) (25.0)\n"
     ]
    }
   ],
   "source": [
    "!pip3 install customtkinter\n"
   ]
  },
  {
   "cell_type": "code",
   "execution_count": 9,
   "id": "a559b3a4",
   "metadata": {},
   "outputs": [
    {
     "name": "stderr",
     "output_type": "stream",
     "text": [
      "Exception in Tkinter callback\n",
      "Traceback (most recent call last):\n",
      "  File \"/usr/lib/python3.10/tkinter/__init__.py\", line 1921, in __call__\n",
      "    return self.func(*args)\n",
      "  File \"/home/dev/.local/lib/python3.10/site-packages/customtkinter/windows/widgets/ctk_button.py\", line 554, in _clicked\n",
      "    self._command()\n",
      "  File \"/tmp/ipykernel_16032/3886289945.py\", line 43, in button_callback\n",
      "    print(\"checkbox_frame:\", self.checkbox_frame.get())\n",
      "  File \"/usr/lib/python3.10/tkinter/__init__.py\", line 2383, in __getattr__\n",
      "    return getattr(self.tk, attr)\n",
      "AttributeError: '_tkinter.tkapp' object has no attribute 'checkbox_frame'\n"
     ]
    }
   ],
   "source": [
    "class MyScrollableCheckboxFrame(customtkinter.CTkScrollableFrame):\n",
    "    def __init__(self, master, title, values):\n",
    "        super().__init__(master, label_text=title)\n",
    "        self.grid_columnconfigure(0, weight=1)\n",
    "        self.values = values\n",
    "        self.checkboxes = []\n",
    "\n",
    "        for i, value in enumerate(self.values):\n",
    "            checkbox = customtkinter.CTkCheckBox(self, text=value)\n",
    "            checkbox.grid(row=i, column=0, padx=10, pady=(10, 0), sticky=\"w\")\n",
    "            self.checkboxes.append(checkbox)\n",
    "\n",
    "    def get(self):\n",
    "        checked_checkboxes = []\n",
    "        for checkbox in self.checkboxes:\n",
    "            if checkbox.get() == 1:\n",
    "                checked_checkboxes.append(checkbox.cget(\"text\"))\n",
    "        return checked_checkboxes\n",
    "    \n",
    "class App(customtkinter.CTk):\n",
    "    def __init__(self):\n",
    "        super().__init__()\n",
    "\n",
    "        self.title(\"my app\")\n",
    "        self.geometry(\"400x220\")\n",
    "        self.grid_columnconfigure(0, weight=1)\n",
    "        self.grid_rowconfigure(0, weight=1)\n",
    "\n",
    "        values = [\n",
    "        \"value 1\", \"value 2\", \"value 3\", \"value 4\", \"value 5\", \"value 6\",\n",
    "        \"value 7\", \"value 8\", \"value 9\", \"value 10\", \"value 11\", \"value 12\",\n",
    "        \"value 13\", \"value 14\", \"value 15\", \"value 16\", \"value 17\", \"value 18\",\n",
    "        \"value 19\", \"value 20\"\n",
    "        ]\n",
    "\n",
    "        self.scrollable_checkbox_frame = MyScrollableCheckboxFrame(self, title=\"Values\", values=values)\n",
    "        self.scrollable_checkbox_frame.grid(row=0, column=0, padx=10, pady=(10, 0), sticky=\"nsew\")\n",
    "\n",
    "        self.button = customtkinter.CTkButton(self, text=\"my button\", command=self.button_callback)\n",
    "        self.button.grid(row=3, column=0, padx=10, pady=10, sticky=\"ew\", columnspan=2)\n",
    "\n",
    "    def button_callback(self):\n",
    "        print(\"checkbox_frame:\", self.checkbox_frame.get())\n",
    "        print(\"radiobutton_frame:\", self.radiobutton_frame.get())\n",
    "\n",
    "app = App()\n",
    "app.mainloop()"
   ]
  },
  {
   "cell_type": "code",
   "execution_count": 10,
   "id": "214f87f3",
   "metadata": {},
   "outputs": [],
   "source": [
    "import tkinter as tk\n",
    "\n",
    "root = tk.Tk()\n",
    "root.geometry(\"200x100\")\n",
    "\n",
    "spin = tk.Spinbox(root, from_=0, to=10)\n",
    "spin.pack(pady=10)\n",
    "\n",
    "spin2 = tk.Spinbox(root, values=(\"Apple\", \"Banana\", \"Cherry\"))\n",
    "spin2.pack(pady=10)\n",
    "\n",
    "root.mainloop()"
   ]
  },
  {
   "cell_type": "code",
   "execution_count": 14,
   "id": "ef42fedc",
   "metadata": {},
   "outputs": [
    {
     "ename": "TypeError",
     "evalue": "'NoneType' object is not callable",
     "output_type": "error",
     "traceback": [
      "\u001b[0;31m---------------------------------------------------------------------------\u001b[0m",
      "\u001b[0;31mTypeError\u001b[0m                                 Traceback (most recent call last)",
      "Cell \u001b[0;32mIn[14], line 14\u001b[0m\n\u001b[1;32m     11\u001b[0m add \u001b[38;5;241m=\u001b[39m \u001b[38;5;28;01mlambda\u001b[39;00m a,b:a\u001b[38;5;241m+\u001b[39mb\n\u001b[1;32m     13\u001b[0m add2 \u001b[38;5;241m=\u001b[39m f1(add)\n\u001b[0;32m---> 14\u001b[0m \u001b[43madd2\u001b[49m\u001b[43m(\u001b[49m\u001b[38;5;241;43m1\u001b[39;49m\u001b[43m,\u001b[49m\u001b[38;5;241;43m2\u001b[39;49m\u001b[43m)\u001b[49m\n",
      "\u001b[0;31mTypeError\u001b[0m: 'NoneType' object is not callable"
     ]
    }
   ],
   "source": [
    "x = 0\n",
    "\n",
    "def f1(f2):\n",
    "    count = 0\n",
    "    def wrapper(*kwrgs):\n",
    "        nonlocal count\n",
    "        print(\"Inside wrapper\")\n",
    "        count+=1\n",
    "        f2(*kwrgs)\n",
    "\n",
    "add = lambda a,b:a+b\n",
    "\n",
    "add2 = f1(add)\n",
    "add2(1,2)"
   ]
  },
  {
   "cell_type": "code",
   "execution_count": 2,
   "id": "703cb277",
   "metadata": {},
   "outputs": [
    {
     "name": "stderr",
     "output_type": "stream",
     "text": [
      "invalid command name \"130292384644992update\"\n",
      "    while executing\n",
      "\"130292384644992update\"\n",
      "    (\"after\" script)\n",
      "invalid command name \"130292375228928check_dpi_scaling\"\n",
      "    while executing\n",
      "\"130292375228928check_dpi_scaling\"\n",
      "    (\"after\" script)\n"
     ]
    }
   ],
   "source": [
    "import customtkinter as ctk\n",
    "\n",
    "# Set appearance and theme\n",
    "ctk.set_appearance_mode(\"Light\")  # Modes: \"System\" (default), \"Dark\", \"Light\"\n",
    "ctk.set_default_color_theme(\"blue\")  # Themes: \"blue\" (default), \"green\", \"dark-blue\"\n",
    "\n",
    "# Create the main window\n",
    "app = ctk.CTk()\n",
    "app.title(\"Basic CustomTkinter App\")\n",
    "app.geometry(\"400x300\")\n",
    "\n",
    "# Add a label\n",
    "label = ctk.CTkLabel(app, text=\"Hello, CustomTkinter!\", font=(\"Arial\", 18))\n",
    "label.pack(pady=20)\n",
    "\n",
    "# Add an entry field\n",
    "entry = ctk.CTkEntry(app, placeholder_text=\"Type something...\")\n",
    "entry.pack(pady=10)\n",
    "\n",
    "# Button click function\n",
    "def on_button_click():\n",
    "    text = entry.get()\n",
    "    label.configure(text=f\"You typed: {text}\")\n",
    "\n",
    "# Add a button\n",
    "button = ctk.CTkButton(app, text=\"Submit\", command=on_button_click)\n",
    "button.pack(pady=10)\n",
    "\n",
    "# Start the application\n",
    "app.mainloop()\n"
   ]
  },
  {
   "cell_type": "code",
   "execution_count": null,
   "id": "40999a54",
   "metadata": {},
   "outputs": [],
   "source": []
  }
 ],
 "metadata": {
  "kernelspec": {
   "display_name": "Python 3",
   "language": "python",
   "name": "python3"
  },
  "language_info": {
   "codemirror_mode": {
    "name": "ipython",
    "version": 3
   },
   "file_extension": ".py",
   "mimetype": "text/x-python",
   "name": "python",
   "nbconvert_exporter": "python",
   "pygments_lexer": "ipython3",
   "version": "3.10.12"
  }
 },
 "nbformat": 4,
 "nbformat_minor": 5
}
